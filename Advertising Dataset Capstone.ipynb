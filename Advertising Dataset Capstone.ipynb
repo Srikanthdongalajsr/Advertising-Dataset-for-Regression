{
 "cells": [
  {
   "cell_type": "code",
   "execution_count": 1,
   "id": "3140a29c",
   "metadata": {},
   "outputs": [],
   "source": [
    "import pandas as pd\n",
    "import numpy as np\n",
    "import matplotlib.pyplot as plt\n",
    "import seaborn as sns\n",
    "\n",
    "from sklearn.linear_model import LinearRegression, Lasso, Ridge, ElasticNet\n",
    "from sklearn.model_selection import train_test_split, cross_val_score, GridSearchCV\n",
    "from sklearn.metrics import r2_score, mean_squared_error\n",
    "from sklearn.preprocessing import PolynomialFeatures"
   ]
  },
  {
   "cell_type": "code",
   "execution_count": 2,
   "id": "9b5ae2eb",
   "metadata": {},
   "outputs": [
    {
     "data": {
      "text/html": [
       "<div>\n",
       "<style scoped>\n",
       "    .dataframe tbody tr th:only-of-type {\n",
       "        vertical-align: middle;\n",
       "    }\n",
       "\n",
       "    .dataframe tbody tr th {\n",
       "        vertical-align: top;\n",
       "    }\n",
       "\n",
       "    .dataframe thead th {\n",
       "        text-align: right;\n",
       "    }\n",
       "</style>\n",
       "<table border=\"1\" class=\"dataframe\">\n",
       "  <thead>\n",
       "    <tr style=\"text-align: right;\">\n",
       "      <th></th>\n",
       "      <th>TV</th>\n",
       "      <th>radio</th>\n",
       "      <th>newspaper</th>\n",
       "      <th>sales</th>\n",
       "    </tr>\n",
       "  </thead>\n",
       "  <tbody>\n",
       "    <tr>\n",
       "      <th>0</th>\n",
       "      <td>230100</td>\n",
       "      <td>37800</td>\n",
       "      <td>69200</td>\n",
       "      <td>22100</td>\n",
       "    </tr>\n",
       "    <tr>\n",
       "      <th>1</th>\n",
       "      <td>44500</td>\n",
       "      <td>39300</td>\n",
       "      <td>45100</td>\n",
       "      <td>10400</td>\n",
       "    </tr>\n",
       "    <tr>\n",
       "      <th>2</th>\n",
       "      <td>17200</td>\n",
       "      <td>45900</td>\n",
       "      <td>69300</td>\n",
       "      <td>9300</td>\n",
       "    </tr>\n",
       "  </tbody>\n",
       "</table>\n",
       "</div>"
      ],
      "text/plain": [
       "       TV  radio  newspaper  sales\n",
       "0  230100  37800      69200  22100\n",
       "1   44500  39300      45100  10400\n",
       "2   17200  45900      69300   9300"
      ]
     },
     "execution_count": 2,
     "metadata": {},
     "output_type": "execute_result"
    }
   ],
   "source": [
    "df = pd.read_csv('Advertising.csv')\n",
    "df.head(3)"
   ]
  },
  {
   "cell_type": "code",
   "execution_count": 3,
   "id": "1c2d3f71",
   "metadata": {},
   "outputs": [
    {
     "data": {
      "text/plain": [
       "(200, 4)"
      ]
     },
     "execution_count": 3,
     "metadata": {},
     "output_type": "execute_result"
    }
   ],
   "source": [
    "df.shape"
   ]
  },
  {
   "cell_type": "code",
   "execution_count": 4,
   "id": "c0fb6808",
   "metadata": {},
   "outputs": [
    {
     "name": "stdout",
     "output_type": "stream",
     "text": [
      "<class 'pandas.core.frame.DataFrame'>\n",
      "RangeIndex: 200 entries, 0 to 199\n",
      "Data columns (total 4 columns):\n",
      " #   Column     Non-Null Count  Dtype\n",
      "---  ------     --------------  -----\n",
      " 0   TV         200 non-null    int64\n",
      " 1   radio      200 non-null    int64\n",
      " 2   newspaper  200 non-null    int64\n",
      " 3   sales      200 non-null    int64\n",
      "dtypes: int64(4)\n",
      "memory usage: 6.4 KB\n"
     ]
    }
   ],
   "source": [
    "df.info()"
   ]
  },
  {
   "cell_type": "code",
   "execution_count": 5,
   "id": "304ef032",
   "metadata": {},
   "outputs": [
    {
     "data": {
      "text/html": [
       "<div>\n",
       "<style scoped>\n",
       "    .dataframe tbody tr th:only-of-type {\n",
       "        vertical-align: middle;\n",
       "    }\n",
       "\n",
       "    .dataframe tbody tr th {\n",
       "        vertical-align: top;\n",
       "    }\n",
       "\n",
       "    .dataframe thead th {\n",
       "        text-align: right;\n",
       "    }\n",
       "</style>\n",
       "<table border=\"1\" class=\"dataframe\">\n",
       "  <thead>\n",
       "    <tr style=\"text-align: right;\">\n",
       "      <th></th>\n",
       "      <th>TV</th>\n",
       "      <th>radio</th>\n",
       "      <th>newspaper</th>\n",
       "      <th>sales</th>\n",
       "    </tr>\n",
       "  </thead>\n",
       "  <tbody>\n",
       "    <tr>\n",
       "      <th>count</th>\n",
       "      <td>200.000000</td>\n",
       "      <td>200.000000</td>\n",
       "      <td>200.000000</td>\n",
       "      <td>200.000000</td>\n",
       "    </tr>\n",
       "    <tr>\n",
       "      <th>mean</th>\n",
       "      <td>147042.500000</td>\n",
       "      <td>23264.000000</td>\n",
       "      <td>30554.000000</td>\n",
       "      <td>14022.500000</td>\n",
       "    </tr>\n",
       "    <tr>\n",
       "      <th>std</th>\n",
       "      <td>85854.236315</td>\n",
       "      <td>14846.809176</td>\n",
       "      <td>21778.620839</td>\n",
       "      <td>5217.456566</td>\n",
       "    </tr>\n",
       "    <tr>\n",
       "      <th>min</th>\n",
       "      <td>700.000000</td>\n",
       "      <td>0.000000</td>\n",
       "      <td>300.000000</td>\n",
       "      <td>1600.000000</td>\n",
       "    </tr>\n",
       "    <tr>\n",
       "      <th>25%</th>\n",
       "      <td>74375.000000</td>\n",
       "      <td>9975.000000</td>\n",
       "      <td>12750.000000</td>\n",
       "      <td>10375.000000</td>\n",
       "    </tr>\n",
       "    <tr>\n",
       "      <th>50%</th>\n",
       "      <td>149750.000000</td>\n",
       "      <td>22900.000000</td>\n",
       "      <td>25750.000000</td>\n",
       "      <td>12900.000000</td>\n",
       "    </tr>\n",
       "    <tr>\n",
       "      <th>75%</th>\n",
       "      <td>218825.000000</td>\n",
       "      <td>36525.000000</td>\n",
       "      <td>45100.000000</td>\n",
       "      <td>17400.000000</td>\n",
       "    </tr>\n",
       "    <tr>\n",
       "      <th>max</th>\n",
       "      <td>296400.000000</td>\n",
       "      <td>49600.000000</td>\n",
       "      <td>114000.000000</td>\n",
       "      <td>27000.000000</td>\n",
       "    </tr>\n",
       "  </tbody>\n",
       "</table>\n",
       "</div>"
      ],
      "text/plain": [
       "                  TV         radio      newspaper         sales\n",
       "count     200.000000    200.000000     200.000000    200.000000\n",
       "mean   147042.500000  23264.000000   30554.000000  14022.500000\n",
       "std     85854.236315  14846.809176   21778.620839   5217.456566\n",
       "min       700.000000      0.000000     300.000000   1600.000000\n",
       "25%     74375.000000   9975.000000   12750.000000  10375.000000\n",
       "50%    149750.000000  22900.000000   25750.000000  12900.000000\n",
       "75%    218825.000000  36525.000000   45100.000000  17400.000000\n",
       "max    296400.000000  49600.000000  114000.000000  27000.000000"
      ]
     },
     "execution_count": 5,
     "metadata": {},
     "output_type": "execute_result"
    }
   ],
   "source": [
    "df.describe()"
   ]
  },
  {
   "cell_type": "code",
   "execution_count": 6,
   "id": "ad0d6894",
   "metadata": {},
   "outputs": [
    {
     "data": {
      "text/plain": [
       "<AxesSubplot: >"
      ]
     },
     "execution_count": 6,
     "metadata": {},
     "output_type": "execute_result"
    },
    {
     "data": {
      "image/png": "[encoded data removed]",
      "text/plain": [
       "<Figure size 800x100 with 2 Axes>"
      ]
     },
     "metadata": {},
     "output_type": "display_data"
    }
   ],
   "source": [
    "import missingno\n",
    "missingno.matrix(df, figsize=(8,1))"
   ]
  },
  {
   "cell_type": "markdown",
   "id": "43af60e0",
   "metadata": {},
   "source": [
    "- no missing values\n",
    "- since each variable has a lot of unique values we consider all the features as continuous"
   ]
  },
  {
   "cell_type": "code",
   "execution_count": 7,
   "id": "839d0a76",
   "metadata": {},
   "outputs": [
    {
     "data": {
      "text/html": [
       "<div>\n",
       "<style scoped>\n",
       "    .dataframe tbody tr th:only-of-type {\n",
       "        vertical-align: middle;\n",
       "    }\n",
       "\n",
       "    .dataframe tbody tr th {\n",
       "        vertical-align: top;\n",
       "    }\n",
       "\n",
       "    .dataframe thead th {\n",
       "        text-align: right;\n",
       "    }\n",
       "</style>\n",
       "<table border=\"1\" class=\"dataframe\">\n",
       "  <thead>\n",
       "    <tr style=\"text-align: right;\">\n",
       "      <th></th>\n",
       "      <th>TV</th>\n",
       "      <th>radio</th>\n",
       "      <th>newspaper</th>\n",
       "      <th>sales</th>\n",
       "    </tr>\n",
       "  </thead>\n",
       "  <tbody>\n",
       "    <tr>\n",
       "      <th>TV</th>\n",
       "      <td>1.000000</td>\n",
       "      <td>0.054809</td>\n",
       "      <td>0.056648</td>\n",
       "      <td>0.782224</td>\n",
       "    </tr>\n",
       "    <tr>\n",
       "      <th>radio</th>\n",
       "      <td>0.054809</td>\n",
       "      <td>1.000000</td>\n",
       "      <td>0.354104</td>\n",
       "      <td>0.576223</td>\n",
       "    </tr>\n",
       "    <tr>\n",
       "      <th>newspaper</th>\n",
       "      <td>0.056648</td>\n",
       "      <td>0.354104</td>\n",
       "      <td>1.000000</td>\n",
       "      <td>0.228299</td>\n",
       "    </tr>\n",
       "    <tr>\n",
       "      <th>sales</th>\n",
       "      <td>0.782224</td>\n",
       "      <td>0.576223</td>\n",
       "      <td>0.228299</td>\n",
       "      <td>1.000000</td>\n",
       "    </tr>\n",
       "  </tbody>\n",
       "</table>\n",
       "</div>"
      ],
      "text/plain": [
       "                 TV     radio  newspaper     sales\n",
       "TV         1.000000  0.054809   0.056648  0.782224\n",
       "radio      0.054809  1.000000   0.354104  0.576223\n",
       "newspaper  0.056648  0.354104   1.000000  0.228299\n",
       "sales      0.782224  0.576223   0.228299  1.000000"
      ]
     },
     "execution_count": 7,
     "metadata": {},
     "output_type": "execute_result"
    }
   ],
   "source": [
    "df.corr()"
   ]
  },
  {
   "cell_type": "markdown",
   "id": "49bc61e7",
   "metadata": {},
   "source": [
    "- No high corr between the independent variables"
   ]
  },
  {
   "cell_type": "code",
   "execution_count": 8,
   "id": "56f8be58",
   "metadata": {},
   "outputs": [
    {
     "data": {
      "text/plain": [
       "0"
      ]
     },
     "execution_count": 8,
     "metadata": {},
     "output_type": "execute_result"
    }
   ],
   "source": [
    "df.duplicated().sum()"
   ]
  },
  {
   "cell_type": "markdown",
   "id": "764ea532",
   "metadata": {},
   "source": [
    "## Modelling, Prediction and Evaluation (Base Model) - r2"
   ]
  },
  {
   "cell_type": "code",
   "execution_count": 9,
   "id": "584a6ab7",
   "metadata": {},
   "outputs": [],
   "source": [
    "X = df.drop('sales', axis=1)\n",
    "y = df['sales']"
   ]
  },
  {
   "cell_type": "code",
   "execution_count": 10,
   "id": "34e561c2",
   "metadata": {},
   "outputs": [
    {
     "name": "stdout",
     "output_type": "stream",
     "text": [
      "Intercept: 2979.067338122635 \n",
      "Coefficient: [0.04472952 0.18919505 0.00276111]\n",
      "\n",
      "Train score: 0.8957008271017817 \n",
      "Test score: 0.8994380241009119 \n",
      "CVS: 0.8871063495438435\n"
     ]
    }
   ],
   "source": [
    "#MLR\n",
    "X_train, X_test, y_train, y_test = train_test_split(X,y, test_size=0.2, random_state=42)\n",
    "\n",
    "model_linear = LinearRegression()\n",
    "model_linear.fit(X_train, y_train)\n",
    "\n",
    "y_train_pred = model_linear.predict(X_train)\n",
    "y_test_pred = model_linear.predict(X_test)\n",
    "\n",
    "train_score_linear = model_linear.score(X_train, y_train)\n",
    "test_score_linear = model_linear.score(X_test, y_test)\n",
    "cvs_score_linear = cross_val_score(model_linear, X, y, cv=5).mean()\n",
    "\n",
    "print('Intercept:',model_linear.intercept_, '\\nCoefficient:', model_linear.coef_)\n",
    "print('\\nTrain score:',train_score_linear, '\\nTest score:',test_score_linear, '\\nCVS:', cvs_score_linear)"
   ]
  },
  {
   "cell_type": "raw",
   "id": "45b69d16",
   "metadata": {},
   "source": [
    "#Polynomial Regression\n",
    "flag = True\n",
    "i = 1\n",
    "while flag:\n",
    "    poly_conv = PolynomialFeatures(degree=i, include_bias=False)\n",
    "    X_poly = pd.DataFrame(poly_conv.fit_transform(X))\n",
    "    \n",
    "    X_train, X_test, y_train, y_test = train_test_split(X_poly,y, test_size=0.2, random_state=42)\n",
    "    \n",
    "    model_poly = LinearRegression()\n",
    "                          \n",
    "    model_poly.fit(X_train, y_train)\n",
    "    \n",
    "    y_pred_test = model_poly.predict(X_test)\n",
    "    y_pred_train = model_poly.predict(X_train)\n",
    "    \n",
    "    train_score_poly = model_poly.score(X_train, y_train)\n",
    "    test_score_poly = model_poly.score(X_test, y_test)\n",
    "    cvs_poly = cross_val_score(model_poly, X_poly, y, cv=5).mean()\n",
    "\n",
    "    print('\\nTrain score:',train_score_poly, '\\nTest score:',test_score_poly, '\\nCVS:', cvs_poly)\n",
    "                         \n",
    "    if test_score_poly<0:\n",
    "        flag = False\n",
    "    \n",
    "    i+=1"
   ]
  },
  {
   "cell_type": "code",
   "execution_count": 11,
   "id": "b287343a",
   "metadata": {},
   "outputs": [
    {
     "name": "stdout",
     "output_type": "stream",
     "text": [
      "Intercept: 3801.1222491079807 \n",
      "Coefficient: [ 9.18396812e-02  1.07918850e-02  2.45105162e-02 -4.37011890e-07\n",
      "  1.35341093e-06 -3.06406059e-07  1.73582806e-07  6.94902786e-07\n",
      " -3.67617490e-08  7.37273356e-13 -1.05884102e-12  8.63682737e-13\n",
      "  2.70329787e-12 -3.41844252e-12  9.83477559e-13 -7.66662570e-12\n",
      " -1.20388142e-12 -2.35559310e-12 -1.48000124e-12]\n",
      "\n",
      "Train score: 0.9916695295575977 \n",
      "Test score: 0.9906674700872862 \n",
      "CVS: 0.98856098446927\n"
     ]
    }
   ],
   "source": [
    "#Polynomial model with i =3\n",
    "poly_conv = PolynomialFeatures(degree=3, include_bias=False)\n",
    "X_poly = pd.DataFrame(poly_conv.fit_transform(X))\n",
    "\n",
    "X_train, X_test, y_train, y_test = train_test_split(X_poly,y, test_size=0.2, random_state=42)\n",
    "\n",
    "model_poly = LinearRegression()\n",
    "\n",
    "model_poly.fit(X_train, y_train)\n",
    "\n",
    "y_pred_test = model_poly.predict(X_test)\n",
    "y_pred_train = model_poly.predict(X_train)\n",
    "\n",
    "train_score_poly = model_poly.score(X_train, y_train)\n",
    "test_score_poly = model_poly.score(X_test, y_test)\n",
    "cvs_score_poly = cross_val_score(model_poly, X_poly, y, cv=5).mean()\n",
    "\n",
    "print('Intercept:',model_poly.intercept_, '\\nCoefficient:', model_poly.coef_)\n",
    "print('\\nTrain score:',train_score_poly, '\\nTest score:',test_score_poly, '\\nCVS:', cvs_score_poly)"
   ]
  },
  {
   "cell_type": "code",
   "execution_count": 12,
   "id": "1d9a859e",
   "metadata": {},
   "outputs": [
    {
     "name": "stdout",
     "output_type": "stream",
     "text": [
      "{'alpha': 9}\n",
      "Intercept: 2979.0673523553796 \n",
      "Coefficient: [0.04472952 0.18919505 0.00276111]\n",
      "\n",
      "Train score: 0.8957008271017817\n",
      "Test score: 0.8994380242150258\n",
      "Cross Validation score: 0.8871063497055447\n"
     ]
    }
   ],
   "source": [
    "#Lasso Regression\n",
    "X = df.drop('sales', axis=1)\n",
    "y = df['sales']\n",
    "\n",
    "X_train, X_test, y_train, y_test = train_test_split(X,y, test_size=0.2, random_state=42)\n",
    "\n",
    "estimator = Lasso()\n",
    "param_grid = {'alpha':[i for i in range(1,10)]}\n",
    "\n",
    "model_hp_lasso = GridSearchCV(estimator, param_grid, cv=5, scoring='r2')\n",
    "model_hp_lasso.fit(X_train, y_train)\n",
    "print(model_hp_lasso.best_params_)\n",
    "\n",
    "model_lasso = Lasso(alpha=0.1) \n",
    "model_lasso.fit(X_train, y_train)\n",
    "\n",
    "train_score_lasso=model_lasso.score(X_train, y_train)\n",
    "test_score_lasso=model_lasso.score(X_test, y_test)\n",
    "cvs_score_lasso =cross_val_score(model_lasso,X, y, cv=5).mean()\n",
    "\n",
    "print('Intercept:',model_lasso.intercept_, '\\nCoefficient:', model_lasso.coef_)\n",
    "print('\\nTrain score:',train_score_lasso)\n",
    "print('Test score:',test_score_lasso)\n",
    "print('Cross Validation score:',cvs_score_lasso)"
   ]
  },
  {
   "cell_type": "code",
   "execution_count": 13,
   "id": "67b7fe87",
   "metadata": {},
   "outputs": [
    {
     "name": "stdout",
     "output_type": "stream",
     "text": [
      "{'alpha': 9}\n",
      "Intercept: 2979.067480640402 \n",
      "Coefficient: [0.04472952 0.18919505 0.00276111]\n",
      "\n",
      "Train score: 0.8957008271017814\n",
      "Test score: 0.8994380252459169\n",
      "Cross Validation score: 0.8871063511014737\n"
     ]
    }
   ],
   "source": [
    "#Ridge Regression\n",
    "\n",
    "X = df.drop('sales', axis=1)\n",
    "y = df['sales']\n",
    "\n",
    "X_train, X_test, y_train, y_test = train_test_split(X,y, test_size=0.2, random_state=42)\n",
    "\n",
    "estimator = Ridge()\n",
    "param_grid = {'alpha':[i for i in range(1,10)]}\n",
    "\n",
    "model_hp_Ridge = GridSearchCV(estimator, param_grid, cv=5, scoring='r2')\n",
    "model_hp_Ridge.fit(X_train, y_train)\n",
    "print(model_hp_Ridge.best_params_)\n",
    "\n",
    "model_Ridge = Lasso(alpha=1) \n",
    "model_Ridge.fit(X_train, y_train)\n",
    "\n",
    "train_score_Ridge=model_Ridge.score(X_train, y_train)\n",
    "test_score_Ridge=model_Ridge.score(X_test, y_test)\n",
    "cvs_score_Ridge =cross_val_score(model_Ridge,X, y, cv=5).mean()\n",
    "\n",
    "print('Intercept:',model_Ridge.intercept_, '\\nCoefficient:', model_Ridge.coef_)\n",
    "print('\\nTrain score:',train_score_Ridge)\n",
    "print('Test score:',test_score_Ridge)\n",
    "print('Cross Validation score:',cvs_score_Ridge)"
   ]
  },
  {
   "cell_type": "code",
   "execution_count": 14,
   "id": "bcdc8b9c",
   "metadata": {},
   "outputs": [
    {
     "name": "stdout",
     "output_type": "stream",
     "text": [
      "{'alpha': 150, 'l1_ratio': 0.9}\n",
      "Intercept: 2979.0674678103715 \n",
      "Coefficient: [0.04472952 0.18919505 0.00276111]\n",
      "\n",
      "Train score: 0.8957008271017816\n",
      "Test score: 0.8994380251319485\n",
      "Cross Validation score: 0.8871063509655921\n"
     ]
    }
   ],
   "source": [
    "#ElasticNet Regression\n",
    "\n",
    "X = df.drop('sales', axis=1)\n",
    "y = df['sales']\n",
    "\n",
    "X_train, X_test, y_train, y_test = train_test_split(X,y, test_size=0.2, random_state=42)\n",
    "\n",
    "estimator = ElasticNet()\n",
    "param_grid = {'alpha':[50, 75, 100, 150], 'l1_ratio':[0.1,0.5,0.9]}\n",
    "\n",
    "model_hp_elastic = GridSearchCV(estimator, param_grid, cv=5, scoring='r2')\n",
    "model_hp_elastic.fit(X_train, y_train)\n",
    "print(model_hp_elastic.best_params_)\n",
    "\n",
    "model_elastic = ElasticNet(alpha=1, l1_ratio = 0.9) \n",
    "model_elastic.fit(X_train, y_train)\n",
    "\n",
    "train_score_elastic=model_elastic.score(X_train, y_train)\n",
    "test_score_elastic=model_elastic.score(X_test, y_test)\n",
    "cvs_score_elastic=cross_val_score(model_elastic,X, y, cv=5).mean()\n",
    "\n",
    "print('Intercept:',model_elastic.intercept_, '\\nCoefficient:', model_elastic.coef_)\n",
    "print('\\nTrain score:',train_score_elastic)\n",
    "print('Test score:',test_score_elastic)\n",
    "print('Cross Validation score:',cvs_score_elastic)"
   ]
  },
  {
   "cell_type": "markdown",
   "id": "23fb7f06",
   "metadata": {},
   "source": [
    "# r2 Scores comparision for all the 5 models on the base model "
   ]
  },
  {
   "cell_type": "code",
   "execution_count": 15,
   "id": "427dc7d3",
   "metadata": {},
   "outputs": [
    {
     "data": {
      "text/html": [
       "<div>\n",
       "<style scoped>\n",
       "    .dataframe tbody tr th:only-of-type {\n",
       "        vertical-align: middle;\n",
       "    }\n",
       "\n",
       "    .dataframe tbody tr th {\n",
       "        vertical-align: top;\n",
       "    }\n",
       "\n",
       "    .dataframe thead th {\n",
       "        text-align: right;\n",
       "    }\n",
       "</style>\n",
       "<table border=\"1\" class=\"dataframe\">\n",
       "  <thead>\n",
       "    <tr style=\"text-align: right;\">\n",
       "      <th></th>\n",
       "      <th>Model</th>\n",
       "      <th>Train Score</th>\n",
       "      <th>Test Score</th>\n",
       "      <th>CVS</th>\n",
       "    </tr>\n",
       "  </thead>\n",
       "  <tbody>\n",
       "    <tr>\n",
       "      <th>0</th>\n",
       "      <td>Linear Regression</td>\n",
       "      <td>0.895701</td>\n",
       "      <td>0.899438</td>\n",
       "      <td>0.887106</td>\n",
       "    </tr>\n",
       "    <tr>\n",
       "      <th>1</th>\n",
       "      <td>Polynomial Regression</td>\n",
       "      <td>0.991670</td>\n",
       "      <td>0.990667</td>\n",
       "      <td>0.988561</td>\n",
       "    </tr>\n",
       "    <tr>\n",
       "      <th>2</th>\n",
       "      <td>Lasso Regression</td>\n",
       "      <td>0.895701</td>\n",
       "      <td>0.899438</td>\n",
       "      <td>0.887106</td>\n",
       "    </tr>\n",
       "    <tr>\n",
       "      <th>3</th>\n",
       "      <td>Ridge Regression</td>\n",
       "      <td>0.895701</td>\n",
       "      <td>0.899438</td>\n",
       "      <td>0.887106</td>\n",
       "    </tr>\n",
       "    <tr>\n",
       "      <th>4</th>\n",
       "      <td>ElasticNet Regression</td>\n",
       "      <td>0.895701</td>\n",
       "      <td>0.899438</td>\n",
       "      <td>0.887106</td>\n",
       "    </tr>\n",
       "  </tbody>\n",
       "</table>\n",
       "</div>"
      ],
      "text/plain": [
       "                   Model  Train Score  Test Score       CVS\n",
       "0      Linear Regression     0.895701    0.899438  0.887106\n",
       "1  Polynomial Regression     0.991670    0.990667  0.988561\n",
       "2       Lasso Regression     0.895701    0.899438  0.887106\n",
       "3       Ridge Regression     0.895701    0.899438  0.887106\n",
       "4  ElasticNet Regression     0.895701    0.899438  0.887106"
      ]
     },
     "metadata": {},
     "output_type": "display_data"
    }
   ],
   "source": [
    "#conclusion\n",
    "score = {'Model':['Linear Regression','Polynomial Regression','Lasso Regression','Ridge Regression','ElasticNet Regression'],\n",
    "        'Train Score':[train_score_linear,train_score_poly,train_score_lasso,train_score_Ridge,train_score_elastic],\n",
    "        'Test Score':[test_score_linear,test_score_poly,test_score_lasso,test_score_Ridge,test_score_elastic],\n",
    "        'CVS':[cvs_score_linear,cvs_score_poly,cvs_score_lasso,cvs_score_Ridge,cvs_score_elastic]}\n",
    "\n",
    "scores = pd.DataFrame(score)\n",
    "display(scores)"
   ]
  },
  {
   "cell_type": "markdown",
   "id": "21879c4a",
   "metadata": {},
   "source": [
    "**Conclusion:** If we want to select the best model based on the r2 then **Polynomial Regression with degree 3 is the best**"
   ]
  }
 ],
 "metadata": {
  "kernelspec": {
   "display_name": "Python 3 (ipykernel)",
   "language": "python",
   "name": "python3"
  },
  "language_info": {
   "codemirror_mode": {
    "name": "ipython",
    "version": 3
   },
   "file_extension": ".py",
   "mimetype": "text/x-python",
   "name": "python",
   "nbconvert_exporter": "python",
   "pygments_lexer": "ipython3",
   "version": "3.9.2"
  }
 },
 "nbformat": 4,
 "nbformat_minor": 5
}
